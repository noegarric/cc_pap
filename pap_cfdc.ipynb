{
 "cells": [
  {
   "cell_type": "markdown",
   "metadata": {},
   "source": [
    "# Solving the PAP in a finite A and finite $\\chi$ instance\n",
    "\n",
    "Before solving the CC-PAP, we try to solve the PAP in a discrete instance."
   ]
  },
  {
   "cell_type": "code",
   "execution_count": 1,
   "metadata": {},
   "outputs": [],
   "source": [
    "# imports\n",
    "\n",
    "import numpy as np\n",
    "import scipy as sp\n",
    "from matplotlib import pyplot as plt"
   ]
  },
  {
   "cell_type": "markdown",
   "metadata": {},
   "source": [
    "We will work on the following example\n",
    "- $A = \\{1,2,4,6\\}$\n",
    "- $\\mathcal{X} = \\{1,2,3,4,5\\}$\n",
    "- $\\forall x \\in \\mathcal{X},\\, \\forall a \\in A, \\quad F(x|a) = \\mathbb{P}^a[X \\leq x] = (\\frac{x}{5})^a$\n",
    "\n",
    "and we will take as utility functions\n",
    "\n",
    "$$\n",
    "\\begin{cases}\n",
    "U_A(s,a) = u(s) - a^2\\\\\n",
    "U_P(x,s) = x - s \n",
    "\\end{cases}\n",
    "$$"
   ]
  },
  {
   "cell_type": "code",
   "execution_count": 2,
   "metadata": {},
   "outputs": [],
   "source": [
    "set_a = [1,2,4,6]\n",
    "set_x = [1,2,3,4,5]\n",
    "extended_set_x = np.arange(max(set_x)+1)\n",
    "max_set_x = max(set_x)"
   ]
  },
  {
   "cell_type": "markdown",
   "metadata": {},
   "source": [
    "## $u = \\ln$, original variables"
   ]
  },
  {
   "cell_type": "markdown",
   "metadata": {},
   "source": [
    "First, let us define $\\texttt{prob\\_vect(a)}$, which returns the ndarray\n",
    "$$\n",
    "[p_1(a),\\dots,p_5(a)]\n",
    "$$"
   ]
  },
  {
   "cell_type": "code",
   "execution_count": 3,
   "metadata": {},
   "outputs": [],
   "source": [
    "def prob_vect(a):\n",
    "    cdf_vect = (extended_set_x/max_set_x)**a\n",
    "    return cdf_vect[1:]-cdf_vect[:-1]"
   ]
  },
  {
   "cell_type": "markdown",
   "metadata": {},
   "source": [
    "Then, we define $\\texttt{get\\_expected\\_ua\\_function(a)}$, which returns\n",
    "$$\n",
    "\\left (\\sum_{i=1}^5 p_i(a)\\ln(w_i) \\right ) - a^2\n",
    "$$\n",
    "\n",
    "And $\\texttt{get\\_expected\\_up\\_function(a)}$, which returns\n",
    "$$\n",
    "\\sum_{i=1}^5 p_i(a)w_i\n",
    "$$\n",
    "\n",
    "Note that the latter function is not really the utility function of the principal, but the objective function of $(P_a)$ (its equivalent for the PAP, _cf_ paper)."
   ]
  },
  {
   "cell_type": "code",
   "execution_count": 4,
   "metadata": {},
   "outputs": [],
   "source": [
    "def get_expected_ua_function(a):\n",
    "    return lambda w:np.dot(prob_vect(a),np.log(w)) - a**2\n",
    "\n",
    "def get_expected_up_function(a):\n",
    "    return lambda w:np.dot(prob_vect(a),w)"
   ]
  },
  {
   "cell_type": "code",
   "execution_count": 5,
   "metadata": {},
   "outputs": [],
   "source": [
    "# bounds and parameters of the problem\n",
    "\n",
    "bounds = sp.optimize.Bounds(lb = len(set_x)*[1e-9], ub=len(set_x)*[np.inf])\n"
   ]
  },
  {
   "cell_type": "code",
   "execution_count": 6,
   "metadata": {},
   "outputs": [],
   "source": [
    "def get_participation_const(i:int,R0=0,ua_fun=get_expected_ua_function):\n",
    "    return sp.optimize.NonlinearConstraint(\n",
    "        fun = ua_fun(set_a[i]),\n",
    "        lb = [R0],\n",
    "        ub = [np.inf]\n",
    "    )"
   ]
  },
  {
   "cell_type": "code",
   "execution_count": 7,
   "metadata": {},
   "outputs": [],
   "source": [
    "def get_agent_rationality_const_list(i:int,ua_fun=get_expected_ua_function):\n",
    "\n",
    "    const_list = []\n",
    "    a = set_a[i]\n",
    "\n",
    "\n",
    "    for j in range(len(set_a)):\n",
    "        if i != j:\n",
    "            \n",
    "            const_list.append(sp.optimize.NonlinearConstraint(\n",
    "                fun = lambda w,j=j:ua_fun(a)(w)-ua_fun(set_a[j])(w),\n",
    "                lb = [0],\n",
    "                ub = [np.inf]\n",
    "            ))\n",
    "    \n",
    "    return const_list"
   ]
  },
  {
   "cell_type": "markdown",
   "metadata": {},
   "source": [
    "With everything defined, let us solve the subproblem $(P_4)$ (its equivalent for the PAP). If it works, we will try to solve all the $(P_a)$ s, and compute the original solution of the PAP. "
   ]
  },
  {
   "cell_type": "code",
   "execution_count": 8,
   "metadata": {},
   "outputs": [
    {
     "name": "stderr",
     "output_type": "stream",
     "text": [
      "/tmp/ipykernel_10564/409815884.py:2: RuntimeWarning: invalid value encountered in log\n",
      "  return lambda w:np.dot(prob_vect(a),np.log(w)) - a**2\n"
     ]
    },
    {
     "ename": "ValueError",
     "evalue": "array must not contain infs or NaNs",
     "output_type": "error",
     "traceback": [
      "\u001b[0;31m---------------------------------------------------------------------------\u001b[0m",
      "\u001b[0;31mValueError\u001b[0m                                Traceback (most recent call last)",
      "Cell \u001b[0;32mIn[8], line 6\u001b[0m\n\u001b[1;32m      2\u001b[0m init \u001b[38;5;241m=\u001b[39m np\u001b[38;5;241m.\u001b[39mmaximum(init,\u001b[38;5;241m1e-3\u001b[39m)\n\u001b[1;32m      4\u001b[0m const_list \u001b[38;5;241m=\u001b[39m get_agent_rationality_const_list(\u001b[38;5;241m2\u001b[39m)\u001b[38;5;241m+\u001b[39m[get_participation_const(\u001b[38;5;241m2\u001b[39m)]\n\u001b[0;32m----> 6\u001b[0m res \u001b[38;5;241m=\u001b[39m \u001b[43msp\u001b[49m\u001b[38;5;241;43m.\u001b[39;49m\u001b[43moptimize\u001b[49m\u001b[38;5;241;43m.\u001b[39;49m\u001b[43mminimize\u001b[49m\u001b[43m(\u001b[49m\u001b[43mfun\u001b[49m\u001b[43m \u001b[49m\u001b[38;5;241;43m=\u001b[39;49m\u001b[43m \u001b[49m\u001b[43mget_expected_up_function\u001b[49m\u001b[43m(\u001b[49m\u001b[38;5;241;43m2\u001b[39;49m\u001b[43m)\u001b[49m\u001b[43m,\u001b[49m\u001b[43m \u001b[49m\u001b[43mx0\u001b[49m\u001b[43m \u001b[49m\u001b[38;5;241;43m=\u001b[39;49m\u001b[43m \u001b[49m\u001b[43minit\u001b[49m\u001b[43m,\u001b[49m\u001b[43mmethod\u001b[49m\u001b[38;5;241;43m=\u001b[39;49m\u001b[38;5;124;43m\"\u001b[39;49m\u001b[38;5;124;43mtrust-constr\u001b[39;49m\u001b[38;5;124;43m\"\u001b[39;49m\u001b[43m,\u001b[49m\n\u001b[1;32m      7\u001b[0m \u001b[43m                           \u001b[49m\u001b[43mconstraints\u001b[49m\u001b[38;5;241;43m=\u001b[39;49m\u001b[43mconst_list\u001b[49m\u001b[43m,\u001b[49m\n\u001b[1;32m      8\u001b[0m \u001b[43m                           \u001b[49m\u001b[43mbounds\u001b[49m\u001b[38;5;241;43m=\u001b[39;49m\u001b[43mbounds\u001b[49m\u001b[43m)\u001b[49m\n\u001b[1;32m     10\u001b[0m \u001b[38;5;28mprint\u001b[39m(res)\n",
      "File \u001b[0;32m~/.virtualenvs/stagecmm/lib/python3.10/site-packages/scipy/optimize/_minimize.py:753\u001b[0m, in \u001b[0;36mminimize\u001b[0;34m(fun, x0, args, method, jac, hess, hessp, bounds, constraints, tol, callback, options)\u001b[0m\n\u001b[1;32m    750\u001b[0m     res \u001b[38;5;241m=\u001b[39m _minimize_slsqp(fun, x0, args, jac, bounds,\n\u001b[1;32m    751\u001b[0m                           constraints, callback\u001b[38;5;241m=\u001b[39mcallback, \u001b[38;5;241m*\u001b[39m\u001b[38;5;241m*\u001b[39moptions)\n\u001b[1;32m    752\u001b[0m \u001b[38;5;28;01melif\u001b[39;00m meth \u001b[38;5;241m==\u001b[39m \u001b[38;5;124m'\u001b[39m\u001b[38;5;124mtrust-constr\u001b[39m\u001b[38;5;124m'\u001b[39m:\n\u001b[0;32m--> 753\u001b[0m     res \u001b[38;5;241m=\u001b[39m \u001b[43m_minimize_trustregion_constr\u001b[49m\u001b[43m(\u001b[49m\u001b[43mfun\u001b[49m\u001b[43m,\u001b[49m\u001b[43m \u001b[49m\u001b[43mx0\u001b[49m\u001b[43m,\u001b[49m\u001b[43m \u001b[49m\u001b[43margs\u001b[49m\u001b[43m,\u001b[49m\u001b[43m \u001b[49m\u001b[43mjac\u001b[49m\u001b[43m,\u001b[49m\u001b[43m \u001b[49m\u001b[43mhess\u001b[49m\u001b[43m,\u001b[49m\u001b[43m \u001b[49m\u001b[43mhessp\u001b[49m\u001b[43m,\u001b[49m\n\u001b[1;32m    754\u001b[0m \u001b[43m                                       \u001b[49m\u001b[43mbounds\u001b[49m\u001b[43m,\u001b[49m\u001b[43m \u001b[49m\u001b[43mconstraints\u001b[49m\u001b[43m,\u001b[49m\n\u001b[1;32m    755\u001b[0m \u001b[43m                                       \u001b[49m\u001b[43mcallback\u001b[49m\u001b[38;5;241;43m=\u001b[39;49m\u001b[43mcallback\u001b[49m\u001b[43m,\u001b[49m\u001b[43m \u001b[49m\u001b[38;5;241;43m*\u001b[39;49m\u001b[38;5;241;43m*\u001b[39;49m\u001b[43moptions\u001b[49m\u001b[43m)\u001b[49m\n\u001b[1;32m    756\u001b[0m \u001b[38;5;28;01melif\u001b[39;00m meth \u001b[38;5;241m==\u001b[39m \u001b[38;5;124m'\u001b[39m\u001b[38;5;124mdogleg\u001b[39m\u001b[38;5;124m'\u001b[39m:\n\u001b[1;32m    757\u001b[0m     res \u001b[38;5;241m=\u001b[39m _minimize_dogleg(fun, x0, args, jac, hess,\n\u001b[1;32m    758\u001b[0m                            callback\u001b[38;5;241m=\u001b[39mcallback, \u001b[38;5;241m*\u001b[39m\u001b[38;5;241m*\u001b[39moptions)\n",
      "File \u001b[0;32m~/.virtualenvs/stagecmm/lib/python3.10/site-packages/scipy/optimize/_trustregion_constr/minimize_trustregion_constr.py:536\u001b[0m, in \u001b[0;36m_minimize_trustregion_constr\u001b[0;34m(fun, x0, args, grad, hess, hessp, bounds, constraints, xtol, gtol, barrier_tol, sparse_jacobian, callback, maxiter, verbose, finite_diff_rel_step, initial_constr_penalty, initial_tr_radius, initial_barrier_parameter, initial_barrier_tolerance, factorization_method, disp)\u001b[0m\n\u001b[1;32m    527\u001b[0m     _, result \u001b[38;5;241m=\u001b[39m equality_constrained_sqp(\n\u001b[1;32m    528\u001b[0m         fun_and_constr, grad_and_jac, lagrangian_hess,\n\u001b[1;32m    529\u001b[0m         x0, objective\u001b[38;5;241m.\u001b[39mf, objective\u001b[38;5;241m.\u001b[39mg,\n\u001b[0;32m   (...)\u001b[0m\n\u001b[1;32m    532\u001b[0m         initial_constr_penalty, initial_tr_radius,\n\u001b[1;32m    533\u001b[0m         factorization_method)\n\u001b[1;32m    535\u001b[0m \u001b[38;5;28;01melif\u001b[39;00m method \u001b[38;5;241m==\u001b[39m \u001b[38;5;124m'\u001b[39m\u001b[38;5;124mtr_interior_point\u001b[39m\u001b[38;5;124m'\u001b[39m:\n\u001b[0;32m--> 536\u001b[0m     _, result \u001b[38;5;241m=\u001b[39m \u001b[43mtr_interior_point\u001b[49m\u001b[43m(\u001b[49m\n\u001b[1;32m    537\u001b[0m \u001b[43m        \u001b[49m\u001b[43mobjective\u001b[49m\u001b[38;5;241;43m.\u001b[39;49m\u001b[43mfun\u001b[49m\u001b[43m,\u001b[49m\u001b[43m \u001b[49m\u001b[43mobjective\u001b[49m\u001b[38;5;241;43m.\u001b[39;49m\u001b[43mgrad\u001b[49m\u001b[43m,\u001b[49m\u001b[43m \u001b[49m\u001b[43mlagrangian_hess\u001b[49m\u001b[43m,\u001b[49m\n\u001b[1;32m    538\u001b[0m \u001b[43m        \u001b[49m\u001b[43mn_vars\u001b[49m\u001b[43m,\u001b[49m\u001b[43m \u001b[49m\u001b[43mcanonical\u001b[49m\u001b[38;5;241;43m.\u001b[39;49m\u001b[43mn_ineq\u001b[49m\u001b[43m,\u001b[49m\u001b[43m \u001b[49m\u001b[43mcanonical\u001b[49m\u001b[38;5;241;43m.\u001b[39;49m\u001b[43mn_eq\u001b[49m\u001b[43m,\u001b[49m\n\u001b[1;32m    539\u001b[0m \u001b[43m        \u001b[49m\u001b[43mcanonical\u001b[49m\u001b[38;5;241;43m.\u001b[39;49m\u001b[43mfun\u001b[49m\u001b[43m,\u001b[49m\u001b[43m \u001b[49m\u001b[43mcanonical\u001b[49m\u001b[38;5;241;43m.\u001b[39;49m\u001b[43mjac\u001b[49m\u001b[43m,\u001b[49m\n\u001b[1;32m    540\u001b[0m \u001b[43m        \u001b[49m\u001b[43mx0\u001b[49m\u001b[43m,\u001b[49m\u001b[43m \u001b[49m\u001b[43mobjective\u001b[49m\u001b[38;5;241;43m.\u001b[39;49m\u001b[43mf\u001b[49m\u001b[43m,\u001b[49m\u001b[43m \u001b[49m\u001b[43mobjective\u001b[49m\u001b[38;5;241;43m.\u001b[39;49m\u001b[43mg\u001b[49m\u001b[43m,\u001b[49m\n\u001b[1;32m    541\u001b[0m \u001b[43m        \u001b[49m\u001b[43mc_ineq0\u001b[49m\u001b[43m,\u001b[49m\u001b[43m \u001b[49m\u001b[43mJ_ineq0\u001b[49m\u001b[43m,\u001b[49m\u001b[43m \u001b[49m\u001b[43mc_eq0\u001b[49m\u001b[43m,\u001b[49m\u001b[43m \u001b[49m\u001b[43mJ_eq0\u001b[49m\u001b[43m,\u001b[49m\n\u001b[1;32m    542\u001b[0m \u001b[43m        \u001b[49m\u001b[43mstop_criteria\u001b[49m\u001b[43m,\u001b[49m\n\u001b[1;32m    543\u001b[0m \u001b[43m        \u001b[49m\u001b[43mcanonical\u001b[49m\u001b[38;5;241;43m.\u001b[39;49m\u001b[43mkeep_feasible\u001b[49m\u001b[43m,\u001b[49m\n\u001b[1;32m    544\u001b[0m \u001b[43m        \u001b[49m\u001b[43mxtol\u001b[49m\u001b[43m,\u001b[49m\u001b[43m \u001b[49m\u001b[43mstate\u001b[49m\u001b[43m,\u001b[49m\u001b[43m \u001b[49m\u001b[43minitial_barrier_parameter\u001b[49m\u001b[43m,\u001b[49m\n\u001b[1;32m    545\u001b[0m \u001b[43m        \u001b[49m\u001b[43minitial_barrier_tolerance\u001b[49m\u001b[43m,\u001b[49m\n\u001b[1;32m    546\u001b[0m \u001b[43m        \u001b[49m\u001b[43minitial_constr_penalty\u001b[49m\u001b[43m,\u001b[49m\u001b[43m \u001b[49m\u001b[43minitial_tr_radius\u001b[49m\u001b[43m,\u001b[49m\n\u001b[1;32m    547\u001b[0m \u001b[43m        \u001b[49m\u001b[43mfactorization_method\u001b[49m\u001b[43m,\u001b[49m\u001b[43m \u001b[49m\u001b[43mfinite_diff_bounds\u001b[49m\u001b[43m)\u001b[49m\n\u001b[1;32m    549\u001b[0m \u001b[38;5;66;03m# Status 4 occurs when minimize is successful but constraints are not satisfied.\u001b[39;00m\n\u001b[1;32m    550\u001b[0m \u001b[38;5;28;01mif\u001b[39;00m result\u001b[38;5;241m.\u001b[39mstatus \u001b[38;5;129;01min\u001b[39;00m (\u001b[38;5;241m1\u001b[39m, \u001b[38;5;241m2\u001b[39m) \u001b[38;5;129;01mand\u001b[39;00m state\u001b[38;5;241m.\u001b[39mconstr_violation \u001b[38;5;241m>\u001b[39m gtol:\n",
      "File \u001b[0;32m~/.virtualenvs/stagecmm/lib/python3.10/site-packages/scipy/optimize/_trustregion_constr/tr_interior_point.py:336\u001b[0m, in \u001b[0;36mtr_interior_point\u001b[0;34m(fun, grad, lagr_hess, n_vars, n_ineq, n_eq, constr, jac, x0, fun0, grad0, constr_ineq0, jac_ineq0, constr_eq0, jac_eq0, stop_criteria, enforce_feasibility, xtol, state, initial_barrier_parameter, initial_tolerance, initial_penalty, initial_trust_radius, factorization_method, finite_diff_bounds)\u001b[0m\n\u001b[1;32m    333\u001b[0m \u001b[38;5;66;03m# Solves a sequence of barrier problems\u001b[39;00m\n\u001b[1;32m    334\u001b[0m \u001b[38;5;28;01mwhile\u001b[39;00m \u001b[38;5;28;01mTrue\u001b[39;00m:\n\u001b[1;32m    335\u001b[0m     \u001b[38;5;66;03m# Solve SQP subproblem\u001b[39;00m\n\u001b[0;32m--> 336\u001b[0m     z, state \u001b[38;5;241m=\u001b[39m \u001b[43mequality_constrained_sqp\u001b[49m\u001b[43m(\u001b[49m\n\u001b[1;32m    337\u001b[0m \u001b[43m        \u001b[49m\u001b[43msubprob\u001b[49m\u001b[38;5;241;43m.\u001b[39;49m\u001b[43mfunction_and_constraints\u001b[49m\u001b[43m,\u001b[49m\n\u001b[1;32m    338\u001b[0m \u001b[43m        \u001b[49m\u001b[43msubprob\u001b[49m\u001b[38;5;241;43m.\u001b[39;49m\u001b[43mgradient_and_jacobian\u001b[49m\u001b[43m,\u001b[49m\n\u001b[1;32m    339\u001b[0m \u001b[43m        \u001b[49m\u001b[43msubprob\u001b[49m\u001b[38;5;241;43m.\u001b[39;49m\u001b[43mlagrangian_hessian\u001b[49m\u001b[43m,\u001b[49m\n\u001b[1;32m    340\u001b[0m \u001b[43m        \u001b[49m\u001b[43mz\u001b[49m\u001b[43m,\u001b[49m\u001b[43m \u001b[49m\u001b[43mfun0_subprob\u001b[49m\u001b[43m,\u001b[49m\u001b[43m \u001b[49m\u001b[43mgrad0_subprob\u001b[49m\u001b[43m,\u001b[49m\n\u001b[1;32m    341\u001b[0m \u001b[43m        \u001b[49m\u001b[43mconstr0_subprob\u001b[49m\u001b[43m,\u001b[49m\u001b[43m \u001b[49m\u001b[43mjac0_subprob\u001b[49m\u001b[43m,\u001b[49m\u001b[43m \u001b[49m\u001b[43msubprob\u001b[49m\u001b[38;5;241;43m.\u001b[39;49m\u001b[43mstop_criteria\u001b[49m\u001b[43m,\u001b[49m\n\u001b[1;32m    342\u001b[0m \u001b[43m        \u001b[49m\u001b[43mstate\u001b[49m\u001b[43m,\u001b[49m\u001b[43m \u001b[49m\u001b[43minitial_penalty\u001b[49m\u001b[43m,\u001b[49m\u001b[43m \u001b[49m\u001b[43mtrust_radius\u001b[49m\u001b[43m,\u001b[49m\n\u001b[1;32m    343\u001b[0m \u001b[43m        \u001b[49m\u001b[43mfactorization_method\u001b[49m\u001b[43m,\u001b[49m\u001b[43m \u001b[49m\u001b[43mtrust_lb\u001b[49m\u001b[43m,\u001b[49m\u001b[43m \u001b[49m\u001b[43mtrust_ub\u001b[49m\u001b[43m,\u001b[49m\u001b[43m \u001b[49m\u001b[43msubprob\u001b[49m\u001b[38;5;241;43m.\u001b[39;49m\u001b[43mscaling\u001b[49m\u001b[43m)\u001b[49m\n\u001b[1;32m    344\u001b[0m     \u001b[38;5;28;01mif\u001b[39;00m subprob\u001b[38;5;241m.\u001b[39mterminate:\n\u001b[1;32m    345\u001b[0m         \u001b[38;5;28;01mbreak\u001b[39;00m\n",
      "File \u001b[0;32m~/.virtualenvs/stagecmm/lib/python3.10/site-packages/scipy/optimize/_trustregion_constr/equality_constrained_sqp.py:132\u001b[0m, in \u001b[0;36mequality_constrained_sqp\u001b[0;34m(fun_and_constr, grad_and_jac, lagr_hess, x0, fun0, grad0, constr0, jac0, stop_criteria, state, initial_penalty, initial_trust_radius, factorization_method, trust_lb, trust_ub, scaling)\u001b[0m\n\u001b[1;32m    130\u001b[0m lb_t \u001b[38;5;241m=\u001b[39m trust_lb \u001b[38;5;241m-\u001b[39m dn\n\u001b[1;32m    131\u001b[0m ub_t \u001b[38;5;241m=\u001b[39m trust_ub \u001b[38;5;241m-\u001b[39m dn\n\u001b[0;32m--> 132\u001b[0m dt, cg_info \u001b[38;5;241m=\u001b[39m \u001b[43mprojected_cg\u001b[49m\u001b[43m(\u001b[49m\u001b[43mH\u001b[49m\u001b[43m,\u001b[49m\u001b[43m \u001b[49m\u001b[43mc_t\u001b[49m\u001b[43m,\u001b[49m\u001b[43m \u001b[49m\u001b[43mZ\u001b[49m\u001b[43m,\u001b[49m\u001b[43m \u001b[49m\u001b[43mY\u001b[49m\u001b[43m,\u001b[49m\u001b[43m \u001b[49m\u001b[43mb_t\u001b[49m\u001b[43m,\u001b[49m\n\u001b[1;32m    133\u001b[0m \u001b[43m                           \u001b[49m\u001b[43mtrust_radius_t\u001b[49m\u001b[43m,\u001b[49m\n\u001b[1;32m    134\u001b[0m \u001b[43m                           \u001b[49m\u001b[43mlb_t\u001b[49m\u001b[43m,\u001b[49m\u001b[43m \u001b[49m\u001b[43mub_t\u001b[49m\u001b[43m)\u001b[49m\n\u001b[1;32m    136\u001b[0m \u001b[38;5;66;03m# Compute update (normal + tangential steps).\u001b[39;00m\n\u001b[1;32m    137\u001b[0m d \u001b[38;5;241m=\u001b[39m dn \u001b[38;5;241m+\u001b[39m dt\n",
      "File \u001b[0;32m~/.virtualenvs/stagecmm/lib/python3.10/site-packages/scipy/optimize/_trustregion_constr/qp_subproblem.py:498\u001b[0m, in \u001b[0;36mprojected_cg\u001b[0;34m(H, c, Z, Y, b, trust_radius, lb, ub, tol, max_iter, max_infeasible_iter, return_all)\u001b[0m\n\u001b[1;32m    496\u001b[0m \u001b[38;5;66;03m# Initial Values\u001b[39;00m\n\u001b[1;32m    497\u001b[0m x \u001b[38;5;241m=\u001b[39m Y\u001b[38;5;241m.\u001b[39mdot(\u001b[38;5;241m-\u001b[39mb)\n\u001b[0;32m--> 498\u001b[0m r \u001b[38;5;241m=\u001b[39m \u001b[43mZ\u001b[49m\u001b[38;5;241;43m.\u001b[39;49m\u001b[43mdot\u001b[49m\u001b[43m(\u001b[49m\u001b[43mH\u001b[49m\u001b[38;5;241;43m.\u001b[39;49m\u001b[43mdot\u001b[49m\u001b[43m(\u001b[49m\u001b[43mx\u001b[49m\u001b[43m)\u001b[49m\u001b[43m \u001b[49m\u001b[38;5;241;43m+\u001b[39;49m\u001b[43m \u001b[49m\u001b[43mc\u001b[49m\u001b[43m)\u001b[49m\n\u001b[1;32m    499\u001b[0m g \u001b[38;5;241m=\u001b[39m Z\u001b[38;5;241m.\u001b[39mdot(r)\n\u001b[1;32m    500\u001b[0m p \u001b[38;5;241m=\u001b[39m \u001b[38;5;241m-\u001b[39mg\n",
      "File \u001b[0;32m~/.virtualenvs/stagecmm/lib/python3.10/site-packages/scipy/sparse/linalg/_interface.py:466\u001b[0m, in \u001b[0;36mLinearOperator.dot\u001b[0;34m(self, x)\u001b[0m\n\u001b[1;32m    463\u001b[0m     x \u001b[38;5;241m=\u001b[39m np\u001b[38;5;241m.\u001b[39masarray(x)\n\u001b[1;32m    465\u001b[0m \u001b[38;5;28;01mif\u001b[39;00m x\u001b[38;5;241m.\u001b[39mndim \u001b[38;5;241m==\u001b[39m \u001b[38;5;241m1\u001b[39m \u001b[38;5;129;01mor\u001b[39;00m x\u001b[38;5;241m.\u001b[39mndim \u001b[38;5;241m==\u001b[39m \u001b[38;5;241m2\u001b[39m \u001b[38;5;129;01mand\u001b[39;00m x\u001b[38;5;241m.\u001b[39mshape[\u001b[38;5;241m1\u001b[39m] \u001b[38;5;241m==\u001b[39m \u001b[38;5;241m1\u001b[39m:\n\u001b[0;32m--> 466\u001b[0m     \u001b[38;5;28;01mreturn\u001b[39;00m \u001b[38;5;28;43mself\u001b[39;49m\u001b[38;5;241;43m.\u001b[39;49m\u001b[43mmatvec\u001b[49m\u001b[43m(\u001b[49m\u001b[43mx\u001b[49m\u001b[43m)\u001b[49m\n\u001b[1;32m    467\u001b[0m \u001b[38;5;28;01melif\u001b[39;00m x\u001b[38;5;241m.\u001b[39mndim \u001b[38;5;241m==\u001b[39m \u001b[38;5;241m2\u001b[39m:\n\u001b[1;32m    468\u001b[0m     \u001b[38;5;28;01mreturn\u001b[39;00m \u001b[38;5;28mself\u001b[39m\u001b[38;5;241m.\u001b[39mmatmat(x)\n",
      "File \u001b[0;32m~/.virtualenvs/stagecmm/lib/python3.10/site-packages/scipy/sparse/linalg/_interface.py:258\u001b[0m, in \u001b[0;36mLinearOperator.matvec\u001b[0;34m(self, x)\u001b[0m\n\u001b[1;32m    255\u001b[0m \u001b[38;5;28;01mif\u001b[39;00m x\u001b[38;5;241m.\u001b[39mshape \u001b[38;5;241m!=\u001b[39m (N,) \u001b[38;5;129;01mand\u001b[39;00m x\u001b[38;5;241m.\u001b[39mshape \u001b[38;5;241m!=\u001b[39m (N,\u001b[38;5;241m1\u001b[39m):\n\u001b[1;32m    256\u001b[0m     \u001b[38;5;28;01mraise\u001b[39;00m \u001b[38;5;167;01mValueError\u001b[39;00m(\u001b[38;5;124m'\u001b[39m\u001b[38;5;124mdimension mismatch\u001b[39m\u001b[38;5;124m'\u001b[39m)\n\u001b[0;32m--> 258\u001b[0m y \u001b[38;5;241m=\u001b[39m \u001b[38;5;28;43mself\u001b[39;49m\u001b[38;5;241;43m.\u001b[39;49m\u001b[43m_matvec\u001b[49m\u001b[43m(\u001b[49m\u001b[43mx\u001b[49m\u001b[43m)\u001b[49m\n\u001b[1;32m    260\u001b[0m \u001b[38;5;28;01mif\u001b[39;00m \u001b[38;5;28misinstance\u001b[39m(x, np\u001b[38;5;241m.\u001b[39mmatrix):\n\u001b[1;32m    261\u001b[0m     y \u001b[38;5;241m=\u001b[39m asmatrix(y)\n",
      "File \u001b[0;32m~/.virtualenvs/stagecmm/lib/python3.10/site-packages/scipy/sparse/linalg/_interface.py:613\u001b[0m, in \u001b[0;36m_CustomLinearOperator._matvec\u001b[0;34m(self, x)\u001b[0m\n\u001b[1;32m    612\u001b[0m \u001b[38;5;28;01mdef\u001b[39;00m\u001b[38;5;250m \u001b[39m\u001b[38;5;21m_matvec\u001b[39m(\u001b[38;5;28mself\u001b[39m, x):\n\u001b[0;32m--> 613\u001b[0m     \u001b[38;5;28;01mreturn\u001b[39;00m \u001b[38;5;28;43mself\u001b[39;49m\u001b[38;5;241;43m.\u001b[39;49m\u001b[43m__matvec_impl\u001b[49m\u001b[43m(\u001b[49m\u001b[43mx\u001b[49m\u001b[43m)\u001b[49m\n",
      "File \u001b[0;32m~/.virtualenvs/stagecmm/lib/python3.10/site-packages/scipy/optimize/_trustregion_constr/projections.py:194\u001b[0m, in \u001b[0;36mqr_factorization_projections.<locals>.null_space\u001b[0;34m(x)\u001b[0m\n\u001b[1;32m    191\u001b[0m \u001b[38;5;28;01mdef\u001b[39;00m\u001b[38;5;250m \u001b[39m\u001b[38;5;21mnull_space\u001b[39m(x):\n\u001b[1;32m    192\u001b[0m     \u001b[38;5;66;03m# v = P inv(R) Q.T x\u001b[39;00m\n\u001b[1;32m    193\u001b[0m     aux1 \u001b[38;5;241m=\u001b[39m Q\u001b[38;5;241m.\u001b[39mT\u001b[38;5;241m.\u001b[39mdot(x)\n\u001b[0;32m--> 194\u001b[0m     aux2 \u001b[38;5;241m=\u001b[39m \u001b[43mscipy\u001b[49m\u001b[38;5;241;43m.\u001b[39;49m\u001b[43mlinalg\u001b[49m\u001b[38;5;241;43m.\u001b[39;49m\u001b[43msolve_triangular\u001b[49m\u001b[43m(\u001b[49m\u001b[43mR\u001b[49m\u001b[43m,\u001b[49m\u001b[43m \u001b[49m\u001b[43maux1\u001b[49m\u001b[43m,\u001b[49m\u001b[43m \u001b[49m\u001b[43mlower\u001b[49m\u001b[38;5;241;43m=\u001b[39;49m\u001b[38;5;28;43;01mFalse\u001b[39;49;00m\u001b[43m)\u001b[49m\n\u001b[1;32m    195\u001b[0m     v \u001b[38;5;241m=\u001b[39m np\u001b[38;5;241m.\u001b[39mzeros(m)\n\u001b[1;32m    196\u001b[0m     v[P] \u001b[38;5;241m=\u001b[39m aux2\n",
      "File \u001b[0;32m~/.virtualenvs/stagecmm/lib/python3.10/site-packages/scipy/linalg/_basic.py:481\u001b[0m, in \u001b[0;36msolve_triangular\u001b[0;34m(a, b, trans, lower, unit_diagonal, overwrite_b, check_finite)\u001b[0m\n\u001b[1;32m    413\u001b[0m \u001b[38;5;250m\u001b[39m\u001b[38;5;124;03m\"\"\"\u001b[39;00m\n\u001b[1;32m    414\u001b[0m \u001b[38;5;124;03mSolve the equation ``a x = b`` for `x`, assuming a is a triangular matrix.\u001b[39;00m\n\u001b[1;32m    415\u001b[0m \n\u001b[0;32m   (...)\u001b[0m\n\u001b[1;32m    477\u001b[0m \n\u001b[1;32m    478\u001b[0m \u001b[38;5;124;03m\"\"\"\u001b[39;00m\n\u001b[1;32m    480\u001b[0m a1 \u001b[38;5;241m=\u001b[39m _asarray_validated(a, check_finite\u001b[38;5;241m=\u001b[39mcheck_finite)\n\u001b[0;32m--> 481\u001b[0m b1 \u001b[38;5;241m=\u001b[39m \u001b[43m_asarray_validated\u001b[49m\u001b[43m(\u001b[49m\u001b[43mb\u001b[49m\u001b[43m,\u001b[49m\u001b[43m \u001b[49m\u001b[43mcheck_finite\u001b[49m\u001b[38;5;241;43m=\u001b[39;49m\u001b[43mcheck_finite\u001b[49m\u001b[43m)\u001b[49m\n\u001b[1;32m    483\u001b[0m \u001b[38;5;28;01mif\u001b[39;00m \u001b[38;5;28mlen\u001b[39m(a1\u001b[38;5;241m.\u001b[39mshape) \u001b[38;5;241m!=\u001b[39m \u001b[38;5;241m2\u001b[39m \u001b[38;5;129;01mor\u001b[39;00m a1\u001b[38;5;241m.\u001b[39mshape[\u001b[38;5;241m0\u001b[39m] \u001b[38;5;241m!=\u001b[39m a1\u001b[38;5;241m.\u001b[39mshape[\u001b[38;5;241m1\u001b[39m]:\n\u001b[1;32m    484\u001b[0m     \u001b[38;5;28;01mraise\u001b[39;00m \u001b[38;5;167;01mValueError\u001b[39;00m(\u001b[38;5;124m'\u001b[39m\u001b[38;5;124mexpected square matrix\u001b[39m\u001b[38;5;124m'\u001b[39m)\n",
      "File \u001b[0;32m~/.virtualenvs/stagecmm/lib/python3.10/site-packages/scipy/_lib/_util.py:537\u001b[0m, in \u001b[0;36m_asarray_validated\u001b[0;34m(a, check_finite, sparse_ok, objects_ok, mask_ok, as_inexact)\u001b[0m\n\u001b[1;32m    535\u001b[0m         \u001b[38;5;28;01mraise\u001b[39;00m \u001b[38;5;167;01mValueError\u001b[39;00m(\u001b[38;5;124m'\u001b[39m\u001b[38;5;124mmasked arrays are not supported\u001b[39m\u001b[38;5;124m'\u001b[39m)\n\u001b[1;32m    536\u001b[0m toarray \u001b[38;5;241m=\u001b[39m np\u001b[38;5;241m.\u001b[39masarray_chkfinite \u001b[38;5;28;01mif\u001b[39;00m check_finite \u001b[38;5;28;01melse\u001b[39;00m np\u001b[38;5;241m.\u001b[39masarray\n\u001b[0;32m--> 537\u001b[0m a \u001b[38;5;241m=\u001b[39m \u001b[43mtoarray\u001b[49m\u001b[43m(\u001b[49m\u001b[43ma\u001b[49m\u001b[43m)\u001b[49m\n\u001b[1;32m    538\u001b[0m \u001b[38;5;28;01mif\u001b[39;00m \u001b[38;5;129;01mnot\u001b[39;00m objects_ok:\n\u001b[1;32m    539\u001b[0m     \u001b[38;5;28;01mif\u001b[39;00m a\u001b[38;5;241m.\u001b[39mdtype \u001b[38;5;129;01mis\u001b[39;00m np\u001b[38;5;241m.\u001b[39mdtype(\u001b[38;5;124m'\u001b[39m\u001b[38;5;124mO\u001b[39m\u001b[38;5;124m'\u001b[39m):\n",
      "File \u001b[0;32m~/.virtualenvs/stagecmm/lib/python3.10/site-packages/numpy/lib/_function_base_impl.py:646\u001b[0m, in \u001b[0;36masarray_chkfinite\u001b[0;34m(a, dtype, order)\u001b[0m\n\u001b[1;32m    644\u001b[0m a \u001b[38;5;241m=\u001b[39m asarray(a, dtype\u001b[38;5;241m=\u001b[39mdtype, order\u001b[38;5;241m=\u001b[39morder)\n\u001b[1;32m    645\u001b[0m \u001b[38;5;28;01mif\u001b[39;00m a\u001b[38;5;241m.\u001b[39mdtype\u001b[38;5;241m.\u001b[39mchar \u001b[38;5;129;01min\u001b[39;00m typecodes[\u001b[38;5;124m'\u001b[39m\u001b[38;5;124mAllFloat\u001b[39m\u001b[38;5;124m'\u001b[39m] \u001b[38;5;129;01mand\u001b[39;00m \u001b[38;5;129;01mnot\u001b[39;00m np\u001b[38;5;241m.\u001b[39misfinite(a)\u001b[38;5;241m.\u001b[39mall():\n\u001b[0;32m--> 646\u001b[0m     \u001b[38;5;28;01mraise\u001b[39;00m \u001b[38;5;167;01mValueError\u001b[39;00m(\n\u001b[1;32m    647\u001b[0m         \u001b[38;5;124m\"\u001b[39m\u001b[38;5;124marray must not contain infs or NaNs\u001b[39m\u001b[38;5;124m\"\u001b[39m)\n\u001b[1;32m    648\u001b[0m \u001b[38;5;28;01mreturn\u001b[39;00m a\n",
      "\u001b[0;31mValueError\u001b[0m: array must not contain infs or NaNs"
     ]
    }
   ],
   "source": [
    "init = np.array([5,5,5,5,5]) + np.random.randn(5)\n",
    "init = np.maximum(init,1e-3)\n",
    "\n",
    "const_list = get_agent_rationality_const_list(2)+[get_participation_const(2)]\n",
    "\n",
    "res = sp.optimize.minimize(fun = get_expected_up_function(2), x0 = init,method=\"trust-constr\",\n",
    "                           constraints=const_list,\n",
    "                           bounds=bounds)\n",
    "\n",
    "print(res)"
   ]
  },
  {
   "cell_type": "markdown",
   "metadata": {},
   "source": [
    "It seems that during the solving, negative values for $\\texttt{x}$ occur, which crashes with the logarithmic utility function of the agent. Let us try a second solving, with a truncated objective function"
   ]
  },
  {
   "cell_type": "code",
   "execution_count": 9,
   "metadata": {},
   "outputs": [],
   "source": [
    "def get_expected_ua_function_bis(a):\n",
    "    return lambda w:np.dot(prob_vect(a),np.log(np.maximum(w,1e-9))) - a**2"
   ]
  },
  {
   "cell_type": "code",
   "execution_count": 10,
   "metadata": {},
   "outputs": [
    {
     "name": "stderr",
     "output_type": "stream",
     "text": [
      "/home/noe/.virtualenvs/stagecmm/lib/python3.10/site-packages/scipy/optimize/_differentiable_functions.py:317: UserWarning: delta_grad == 0.0. Check if the approximated function is linear. If the function is linear better results can be obtained by defining the Hessian as zero instead of using quasi-Newton approximations.\n",
      "  self.H.update(self.x - self.x_prev, self.g - self.g_prev)\n",
      "/home/noe/.virtualenvs/stagecmm/lib/python3.10/site-packages/scipy/optimize/_differentiable_functions.py:552: UserWarning: delta_grad == 0.0. Check if the approximated function is linear. If the function is linear better results can be obtained by defining the Hessian as zero instead of using quasi-Newton approximations.\n",
      "  self.H.update(delta_x, delta_g)\n"
     ]
    },
    {
     "name": "stdout",
     "output_type": "stream",
     "text": [
      "           message: The maximum number of function evaluations is exceeded.\n",
      "           success: False\n",
      "            status: 0\n",
      "               fun: 69884687751.27507\n",
      "                 x: [-5.009e-03 -9.549e-04 -1.336e-05  2.050e+01  1.941e+11]\n",
      "               nit: 1000\n",
      "              nfev: 6000\n",
      "              njev: 1000\n",
      "              nhev: 0\n",
      "          cg_niter: 1741\n",
      "      cg_stop_cond: 4\n",
      "              grad: [-0.000e+00 -0.000e+00 -0.000e+00  0.000e+00  3.600e-01]\n",
      "   lagrangian_grad: [-3.681e-07 -3.263e-05 -3.309e-05  1.468e-04  3.597e-01]\n",
      "            constr: [array([ 5.137e+00]), array([-1.237e+00]), array([ 1.464e+01]), array([-2.494e+00]), array([-5.009e-03, -9.549e-04, -1.336e-05,  2.050e+01,\n",
      "                            1.941e+11])]\n",
      "               jac: [array([[-0.000e+00, -0.000e+00, -0.000e+00,\n",
      "                             3.902e-03,  2.011e-12]]), array([[-0.000e+00, -0.000e+00, -0.000e+00,\n",
      "                            -2.907e-09,  1.187e-12]]), array([[-0.000e+00, -0.000e+00, -0.000e+00,\n",
      "                             3.147e-03, -7.596e-13]]), array([[-0.000e+00, -0.000e+00, -0.000e+00,\n",
      "                             1.366e-02,  3.041e-12]]), array([[ 1.000e+00,  0.000e+00, ...,  0.000e+00,\n",
      "                             0.000e+00],\n",
      "                           [ 0.000e+00,  1.000e+00, ...,  0.000e+00,\n",
      "                             0.000e+00],\n",
      "                           ...,\n",
      "                           [ 0.000e+00,  0.000e+00, ...,  1.000e+00,\n",
      "                             0.000e+00],\n",
      "                           [ 0.000e+00,  0.000e+00, ...,  0.000e+00,\n",
      "                             1.000e+00]], shape=(5, 5))]\n",
      "       constr_nfev: [6000, 6000, 6000, 6000, 0]\n",
      "       constr_njev: [0, 0, 0, 0, 0]\n",
      "       constr_nhev: [0, 0, 0, 0, 0]\n",
      "                 v: [array([-1.947e-02]), array([-2.331e+08]), array([-6.829e-03]), array([-4.924e+01]), array([-3.681e-07, -3.263e-05, -3.309e-05, -4.879e-03,\n",
      "                           -5.151e-13])]\n",
      "            method: tr_interior_point\n",
      "        optimality: 0.359723368675012\n",
      "  constr_violation: 2.4944625075121394\n",
      "    execution_time: 2.9046926498413086\n",
      "         tr_radius: 7.91598977129985\n",
      "    constr_penalty: 1.930559542343149e+17\n",
      " barrier_parameter: 0.1\n",
      " barrier_tolerance: 0.1\n",
      "             niter: 1000\n"
     ]
    }
   ],
   "source": [
    "init = np.array([5,5,5,5,5]) + np.random.randn(5)\n",
    "\n",
    "const_list = get_agent_rationality_const_list(2,ua_fun=get_expected_ua_function_bis)\n",
    "const_list.append(get_participation_const(2,ua_fun=get_expected_ua_function_bis))\n",
    "\n",
    "res = sp.optimize.minimize(fun = get_expected_up_function(2), \n",
    "                           x0 = init,method=\"trust-constr\",\n",
    "                           constraints=const_list,bounds=bounds)\n",
    "\n",
    "print(res)"
   ]
  },
  {
   "cell_type": "markdown",
   "metadata": {},
   "source": [
    "This solving does not succeed, and returns negative values (which somewhat makes sense, as we truncated part of the logarithmic barrier). Overall, this solving method does not work. Let us try the change of variables of Grossman and Hart."
   ]
  },
  {
   "cell_type": "markdown",
   "metadata": {},
   "source": [
    "## $u=\\ln$, utility variables"
   ]
  },
  {
   "cell_type": "markdown",
   "metadata": {},
   "source": [
    "The change of variables suggested by Grossman and Hart is the following\n",
    "$$\n",
    "\\forall i \\in [\\![1,5]\\!],\\, v_i = \\ln (w_i) \\Leftrightarrow w_i = \\exp(v_i)\n",
    "$$\n",
    "\n",
    "- $\\texttt{get\\_expected\\_ua\\_function\\_cv(a)}$ should return\n",
    "$$\n",
    "\\left (\\sum_{i=1}^5 p_i(a)v_i \\right ) - a^2\n",
    "$$\n",
    "\n",
    "As it is affine in $v$, we will not re-implement it\n",
    "\n",
    "- $\\texttt{get\\_expected\\_up\\_function\\_cv(a)}$ returns\n",
    "$$\n",
    "\\left (\\sum_{i=1}^5 p_i(a)e^{v_i} \\right ) - a^2\n",
    "$$\n",
    "\n",
    "As before, the latter function is not really the utility function of the principal, but the objective function of $(P_a)$ (its equivalent for the PAP, _cf_ paper)."
   ]
  },
  {
   "cell_type": "code",
   "execution_count": 11,
   "metadata": {},
   "outputs": [],
   "source": [
    "def get_expected_up_function_cv(a):\n",
    "    return lambda v:np.dot(prob_vect(a),np.exp(v))"
   ]
  },
  {
   "cell_type": "code",
   "execution_count": 12,
   "metadata": {},
   "outputs": [],
   "source": [
    "# bounds and parameters of the problem\n",
    "\n",
    "R0 = 0\n",
    "bounds = sp.optimize.Bounds(lb = len(set_x)*[-np.inf], ub=len(set_x)*[np.inf])\n"
   ]
  },
  {
   "cell_type": "markdown",
   "metadata": {},
   "source": [
    "Now, let us implement the participation constraint"
   ]
  },
  {
   "cell_type": "code",
   "execution_count": 13,
   "metadata": {},
   "outputs": [],
   "source": [
    "def get_participation_const_cv(i,R0):\n",
    "    return sp.optimize.LinearConstraint(\n",
    "        A = prob_vect(set_a[i]),\n",
    "        lb = [R0 + set_a[i]**2]\n",
    "    )"
   ]
  },
  {
   "cell_type": "markdown",
   "metadata": {},
   "source": [
    "And the agent rationality constraints"
   ]
  },
  {
   "cell_type": "code",
   "execution_count": 14,
   "metadata": {},
   "outputs": [],
   "source": [
    "def get_agent_rationality_const_list_cv(i:int):\n",
    "\n",
    "    other_a_list = []\n",
    "\n",
    "    for j in range(len(set_a)):\n",
    "        if j != i:\n",
    "            other_a_list.append(j)\n",
    "\n",
    "    matrix = np.stack([prob_vect(set_a[i]) - prob_vect(set_a[i_a]) for i_a in other_a_list])\n",
    "\n",
    "    return sp.optimize.LinearConstraint(\n",
    "                A = matrix,\n",
    "                lb = [set_a[i]**2 - set_a[i_a]**2 for i_a in other_a_list]\n",
    "    )"
   ]
  },
  {
   "cell_type": "markdown",
   "metadata": {},
   "source": [
    "We have defined everything to solve our problem. Let us use a solver "
   ]
  },
  {
   "cell_type": "code",
   "execution_count": null,
   "metadata": {},
   "outputs": [
    {
     "name": "stdout",
     "output_type": "stream",
     "text": [
      "[5.78767422 5.68332153 5.90744422 4.1494163  3.6326688 ]\n"
     ]
    },
    {
     "name": "stderr",
     "output_type": "stream",
     "text": [
      "/home/noe/.virtualenvs/stagecmm/lib/python3.10/site-packages/scipy/optimize/_differentiable_functions.py:317: UserWarning: delta_grad == 0.0. Check if the approximated function is linear. If the function is linear better results can be obtained by defining the Hessian as zero instead of using quasi-Newton approximations.\n",
      "  self.H.update(self.x - self.x_prev, self.g - self.g_prev)\n"
     ]
    },
    {
     "name": "stdout",
     "output_type": "stream",
     "text": [
      "           message: `xtol` termination condition is satisfied.\n",
      "           success: True\n",
      "            status: 2\n",
      "               fun: 14619851.7691663\n",
      "                 x: [-2.954e+02  1.632e+01  1.646e+01  1.650e+01  1.651e+01]\n",
      "               nit: 244\n",
      "              nfev: 2100\n",
      "              njev: 350\n",
      "              nhev: 0\n",
      "          cg_niter: 586\n",
      "      cg_stop_cond: 4\n",
      "              grad: [-0.000e+00  2.924e+05  1.462e+06  4.094e+06  8.772e+06]\n",
      "   lagrangian_grad: [-2.127e-03  4.743e-03 -4.625e-03  1.967e-03 -3.054e-04]\n",
      "            constr: [array([ 6.191e+01,  1.200e+01, -4.874e-01]), array([ 1.600e+01]), array([ 5.788e+00,  5.683e+00,  5.907e+00,  4.149e+00,\n",
      "                            3.633e+00])]\n",
      "               jac: [array([[-1.984e-01, -1.760e-01, ...,  8.000e-02,\n",
      "                             3.904e-01],\n",
      "                           [-3.840e-02, -9.600e-02, ..., -5.551e-17,\n",
      "                             2.304e-01],\n",
      "                           [ 1.536e-03,  1.997e-02, ...,  6.451e-02,\n",
      "                            -1.475e-01]], shape=(3, 5)), array([[ 1.600e-03,  2.400e-02,  1.040e-01,\n",
      "                             2.800e-01,  5.904e-01]]), array([[ 1.000e+00,  0.000e+00, ...,  0.000e+00,\n",
      "                             0.000e+00],\n",
      "                           [ 0.000e+00,  1.000e+00, ...,  0.000e+00,\n",
      "                             0.000e+00],\n",
      "                           ...,\n",
      "                           [ 0.000e+00,  0.000e+00, ...,  1.000e+00,\n",
      "                             0.000e+00],\n",
      "                           [ 0.000e+00,  0.000e+00, ...,  0.000e+00,\n",
      "                             1.000e+00]], shape=(5, 5))]\n",
      "       constr_nfev: [0, 0, 0]\n",
      "       constr_njev: [0, 0, 0]\n",
      "       constr_nhev: [0, 0, 0]\n",
      "                 v: [array([-3.160e-08, -6.092e+05,  5.441e-08]), array([-1.462e+07]), array([ 0.000e+00,  0.000e+00,  0.000e+00,  0.000e+00,\n",
      "                            0.000e+00])]\n",
      "            method: tr_interior_point\n",
      "        optimality: 0.004742566612549126\n",
      "  constr_violation: 0.0\n",
      "    execution_time: 0.42345190048217773\n",
      "         tr_radius: 1.8551306330422962e-09\n",
      "    constr_penalty: 19852042.222527962\n",
      " barrier_parameter: 2.048000000000001e-09\n",
      " barrier_tolerance: 2.048000000000001e-09\n",
      "             niter: 244\n"
     ]
    }
   ],
   "source": [
    "init = np.array([5,5,5,5,5]) + np.random.randn(5)\n",
    "init = np.maximum(init,1e-3)\n",
    "print(init)\n",
    "\n",
    "const_list = [get_agent_rationality_const_list_cv(2),get_participation_const_cv(2,R0=0)]\n",
    "\n",
    "res = sp.optimize.minimize(fun = get_expected_up_function_cv(set_a[2]), x0 = init,method=\"trust-constr\",\n",
    "                           constraints=const_list, bounds=bounds)\n",
    "\n",
    "print(res)"
   ]
  },
  {
   "cell_type": "markdown",
   "metadata": {},
   "source": [
    "It seems that the solving works ! To be sure of that, let us compute the average utility function of the agent in $\\texttt{res.x},\\texttt{a}$ for any $\\texttt{a} \\in A$. The objective is to check that the argmax constraint is satisfied"
   ]
  },
  {
   "cell_type": "code",
   "execution_count": 16,
   "metadata": {},
   "outputs": [
    {
     "name": "stdout",
     "output_type": "stream",
     "text": [
      "a = 1\n",
      "Utility = -46.91306532060885\n",
      "\n",
      "a = 2\n",
      "Utility = -2.758131500968375e-10\n",
      "\n",
      "a = 4\n",
      "Utility = 2.0953905277565354e-11\n",
      "\n",
      "a = 6\n",
      "Utility = -19.512570679656786\n",
      "\n"
     ]
    }
   ],
   "source": [
    "for i in range(len(set_a)):\n",
    "    print(f\"a = {set_a[i]}\")\n",
    "    print(f\"Utility = {get_expected_ua_function(set_a[i])(np.exp(res.x))}\")\n",
    "    print()"
   ]
  },
  {
   "cell_type": "markdown",
   "metadata": {},
   "source": [
    "Apart from numerical errors, the argmax constraint is satisfied, and the participation constraint is also satisfied. Now, we can solve the $|A| = 4$ subproblems which arise. "
   ]
  },
  {
   "cell_type": "code",
   "execution_count": 17,
   "metadata": {},
   "outputs": [],
   "source": [
    "def solve_pap(i:int,loc_init=np.array([5,5,5,5,5]),loc_bounds=bounds,loc_R0=0,\n",
    "              loc_obj_func=get_expected_up_function_cv):\n",
    "\n",
    "    init = loc_init + np.random.randn(5)\n",
    "    const_list = [get_agent_rationality_const_list_cv(i),get_participation_const_cv(i,R0=loc_R0)]\n",
    "\n",
    "    res = sp.optimize.minimize(fun = loc_obj_func(set_a[i]), x0 = init,method=\"trust-constr\",\n",
    "                            constraints=const_list,options={\"factorization_method\":\"SVDFactorization\"},\n",
    "                            bounds=loc_bounds)\n",
    "\n",
    "    return res"
   ]
  },
  {
   "cell_type": "code",
   "execution_count": 18,
   "metadata": {},
   "outputs": [
    {
     "name": "stderr",
     "output_type": "stream",
     "text": [
      "/home/noe/.virtualenvs/stagecmm/lib/python3.10/site-packages/scipy/optimize/_differentiable_functions.py:317: UserWarning: delta_grad == 0.0. Check if the approximated function is linear. If the function is linear better results can be obtained by defining the Hessian as zero instead of using quasi-Newton approximations.\n",
      "  self.H.update(self.x - self.x_prev, self.g - self.g_prev)\n",
      "/home/noe/.virtualenvs/stagecmm/lib/python3.10/site-packages/scipy/optimize/_differentiable_functions.py:317: UserWarning: delta_grad == 0.0. Check if the approximated function is linear. If the function is linear better results can be obtained by defining the Hessian as zero instead of using quasi-Newton approximations.\n",
      "  self.H.update(self.x - self.x_prev, self.g - self.g_prev)\n",
      "/home/noe/.virtualenvs/stagecmm/lib/python3.10/site-packages/scipy/optimize/_differentiable_functions.py:317: UserWarning: delta_grad == 0.0. Check if the approximated function is linear. If the function is linear better results can be obtained by defining the Hessian as zero instead of using quasi-Newton approximations.\n",
      "  self.H.update(self.x - self.x_prev, self.g - self.g_prev)\n"
     ]
    },
    {
     "name": "stdout",
     "output_type": "stream",
     "text": [
      "True\n",
      "True\n",
      "True\n",
      "True\n"
     ]
    }
   ],
   "source": [
    "res_list = [solve_pap(i) for i in range(len(set_a))]\n",
    "\n",
    "for res in res_list:\n",
    "    print(res.success)"
   ]
  },
  {
   "cell_type": "markdown",
   "metadata": {},
   "source": [
    "It seems that all subproblems have been successfully solved : we just have to keep the best $a$ value for the principal to solve the PAP of parameter $R_0$"
   ]
  },
  {
   "cell_type": "code",
   "execution_count": 19,
   "metadata": {},
   "outputs": [
    {
     "name": "stdout",
     "output_type": "stream",
     "text": [
      "The result of the PAP is reached for a = 1\n",
      "And the optimal wage is [0.00000000e+00 7.87086866e+15 9.32075986e+15 9.79358033e+15\n",
      " 9.99986823e+15]\n"
     ]
    }
   ],
   "source": [
    "i_max = -1\n",
    "best_val = -np.inf\n",
    "\n",
    "for i in range(len(set_a)):\n",
    "    if res_list[i].success and (np.dot(set_x,prob_vect(set_a[i])) - res_list[i].fun > best_val):\n",
    "        i_max = i\n",
    "        best_val = np.dot(set_x,prob_vect(set_a[i])) - res_list[i].fun\n",
    "\n",
    "print(f\"The result of the PAP is reached for a = {set_a[i_max]}\")\n",
    "print(f\"And the optimal wage is {np.exp(res.x)}\")"
   ]
  },
  {
   "cell_type": "markdown",
   "metadata": {},
   "source": [
    "We have successfully solved the PAP of parameter $R_0 = 0$. However, the wages in original variables are huge, because of the exponential variable change. To avoid numerical explosion, we will choose less explosive functions in our next examples."
   ]
  },
  {
   "cell_type": "markdown",
   "metadata": {},
   "source": [
    "## $u = -\\frac{1}{\\sqrt{\\cdot}}$, utility variables"
   ]
  },
  {
   "cell_type": "markdown",
   "metadata": {},
   "source": [
    "We will take in that section\n",
    "$$\n",
    "u \\colon \\left | \\begin{matrix}\n",
    "\\mathbb{R}_+^* \\to \\mathbb{R}_-^*\\\\\n",
    "w \\mapsto -\\frac{1}{\\sqrt{w}}\n",
    "\\end{matrix} \\right.\n",
    "$$ \n",
    "\n",
    "$u$ is also increasing and concave : we therefore check assumption (C3)\n",
    "\n",
    "The inverse function of $u$ is\n",
    "\n",
    "$$\n",
    "\\phi \\colon \\left | \\begin{matrix}\n",
    "\\mathbb{R}_-^* \\to \\mathbb{R}_+^*\\\\\n",
    "v \\mapsto \\frac{1}{v^2}\n",
    "\\end{matrix} \\right.\n",
    "$$\n",
    "\n",
    "which is indeed convex and increasing on $\\mathbb{R}_-^*$\n",
    "\n",
    "We will directly use the change of variables in our resolution. Thus, the agent utility function stays the same, we just have to redefine the principal utility function."
   ]
  },
  {
   "cell_type": "code",
   "execution_count": 20,
   "metadata": {},
   "outputs": [],
   "source": [
    "def get_expected_up_function_cv_2(a):\n",
    "    return lambda v:np.dot(prob_vect(a),np.pow(v,-2))"
   ]
  },
  {
   "cell_type": "code",
   "execution_count": 21,
   "metadata": {},
   "outputs": [],
   "source": [
    "# bounds and parameters of the problem\n",
    "\n",
    "bounds = sp.optimize.Bounds(lb=len(set_x)*[-np.inf],ub = len(set_x)*[-1e-9])\n"
   ]
  },
  {
   "cell_type": "code",
   "execution_count": 22,
   "metadata": {},
   "outputs": [
    {
     "name": "stdout",
     "output_type": "stream",
     "text": [
      "           message: `gtol` termination condition is satisfied.\n",
      "           success: True\n",
      "            status: 1\n",
      "               fun: 0.005476342156597801\n",
      "                 x: [-3.230e+02 -1.435e+01 -1.369e+01 -1.351e+01 -1.344e+01]\n",
      "               nit: 84\n",
      "              nfev: 468\n",
      "              njev: 78\n",
      "              nhev: 0\n",
      "          cg_niter: 215\n",
      "      cg_stop_cond: 4\n",
      "              grad: [ 9.496e-11  1.623e-05  8.113e-05  2.272e-04  4.868e-04]\n",
      "   lagrangian_grad: [-4.724e-10  1.992e-10 -1.014e-09  1.250e-09 -4.208e-10]\n",
      "            constr: [array([ 6.160e+01,  1.200e+01, -5.139e-01]), array([-1.400e+01]), array([-3.230e+02, -1.435e+01, -1.369e+01, -1.351e+01,\n",
      "                           -1.344e+01])]\n",
      "               jac: [array([[-1.984e-01, -1.760e-01, ...,  8.000e-02,\n",
      "                             3.904e-01],\n",
      "                           [-3.840e-02, -9.600e-02, ..., -5.551e-17,\n",
      "                             2.304e-01],\n",
      "                           [ 1.536e-03,  1.997e-02, ...,  6.451e-02,\n",
      "                            -1.475e-01]], shape=(3, 5)), array([[ 1.600e-03,  2.400e-02,  1.040e-01,\n",
      "                             2.800e-01,  5.904e-01]]), array([[ 1.000e+00,  0.000e+00, ...,  0.000e+00,\n",
      "                             0.000e+00],\n",
      "                           [ 0.000e+00,  1.000e+00, ...,  0.000e+00,\n",
      "                             0.000e+00],\n",
      "                           ...,\n",
      "                           [ 0.000e+00,  0.000e+00, ...,  1.000e+00,\n",
      "                             0.000e+00],\n",
      "                           [ 0.000e+00,  0.000e+00, ...,  0.000e+00,\n",
      "                             1.000e+00]], shape=(5, 5))]\n",
      "       constr_nfev: [0, 0, 0]\n",
      "       constr_njev: [0, 0, 0]\n",
      "       constr_nhev: [0, 0, 0]\n",
      "                 v: [array([-2.198e-10, -3.379e-05, -5.257e-10]), array([-8.113e-04]), array([ 3.171e-11,  7.124e-10,  7.536e-10,  7.512e-10,\n",
      "                            7.644e-10])]\n",
      "            method: tr_interior_point\n",
      "        optimality: 1.2497694068807701e-09\n",
      "  constr_violation: 0.0\n",
      "    execution_time: 0.13615870475769043\n",
      "         tr_radius: 55195.99487671275\n",
      "    constr_penalty: 1.0\n",
      " barrier_parameter: 1.0240000000000006e-08\n",
      " barrier_tolerance: 1.0240000000000006e-08\n",
      "             niter: 84\n"
     ]
    }
   ],
   "source": [
    "res = solve_pap(2,loc_init=np.ones(5)*(-5),\n",
    "          loc_bounds=bounds,loc_R0=-30,loc_obj_func=get_expected_up_function_cv_2)\n",
    "print(res)"
   ]
  },
  {
   "cell_type": "markdown",
   "metadata": {},
   "source": [
    "`scipy.optimize.minimize` seems to have worked. As before, let us check both constraints, _i.e._ that the agent utility is maximal for $a = 4$, and higher or equal to -30. "
   ]
  },
  {
   "cell_type": "code",
   "execution_count": 23,
   "metadata": {},
   "outputs": [
    {
     "name": "stdout",
     "output_type": "stream",
     "text": [
      "a = 1\n",
      "Utility = -76.60138374067489\n",
      "\n",
      "a = 2\n",
      "Utility = -30.00021288457413\n",
      "\n",
      "a = 4\n",
      "Utility = -29.999984958866666\n",
      "\n",
      "a = 6\n",
      "Utility = -49.48608352010862\n",
      "\n"
     ]
    }
   ],
   "source": [
    "def get_expected_ua_orig_variables(a):\n",
    "    return lambda w:np.dot(prob_vect(a),-np.pow(w,-0.5))-a**2\n",
    "\n",
    "for i in range(len(set_a)):\n",
    "    print(f\"a = {set_a[i]}\")\n",
    "    print(f\"Utility = {get_expected_ua_orig_variables(set_a[i])(np.pow(res.x,-2))}\")\n",
    "    print()"
   ]
  },
  {
   "cell_type": "markdown",
   "metadata": {},
   "source": [
    "This solution is indeed feasible, which reassures us on the well-working of `solve_pap` and the new objective function."
   ]
  },
  {
   "cell_type": "code",
   "execution_count": 24,
   "metadata": {},
   "outputs": [
    {
     "name": "stderr",
     "output_type": "stream",
     "text": [
      "/home/noe/.virtualenvs/stagecmm/lib/python3.10/site-packages/scipy/optimize/_differentiable_functions.py:317: UserWarning: delta_grad == 0.0. Check if the approximated function is linear. If the function is linear better results can be obtained by defining the Hessian as zero instead of using quasi-Newton approximations.\n",
      "  self.H.update(self.x - self.x_prev, self.g - self.g_prev)\n"
     ]
    },
    {
     "name": "stdout",
     "output_type": "stream",
     "text": [
      "True\n",
      "True\n",
      "True\n",
      "False\n",
      "The result of the PAP is reached for a = 4\n",
      "And the optimal wage is [ 0.          1.01374175  1.18601905  2.4783786  23.88388337]\n"
     ]
    }
   ],
   "source": [
    "res_list = [solve_pap(i,loc_init=np.ones(5)*(-5),loc_bounds=bounds,loc_R0=-30,\n",
    "          loc_obj_func=get_expected_up_function_cv_2) for i in range(len(set_a))]\n",
    "\n",
    "for res in res_list:\n",
    "    print(res.success)\n",
    "\n",
    "i_max = -1\n",
    "best_val = -np.inf\n",
    "\n",
    "for i in range(len(set_a)):\n",
    "    if res_list[i].success and (np.dot(set_x,prob_vect(set_a[i])) - res_list[i].fun > best_val):\n",
    "        i_max = i\n",
    "        best_val = np.dot(set_x,prob_vect(set_a[i])) - res_list[i].fun\n",
    "\n",
    "print(f\"The result of the PAP is reached for a = {set_a[i_max]}\")\n",
    "print(f\"And the optimal wage is {np.exp(res.x)}\")"
   ]
  },
  {
   "cell_type": "markdown",
   "metadata": {},
   "source": [
    "In this instance, the solving algorithm works and does not return huge utility values. Thus, we will use it to solve the ethical CC-PAP"
   ]
  }
 ],
 "metadata": {
  "kernelspec": {
   "display_name": "stagecmm",
   "language": "python",
   "name": "python3"
  },
  "language_info": {
   "codemirror_mode": {
    "name": "ipython",
    "version": 3
   },
   "file_extension": ".py",
   "mimetype": "text/x-python",
   "name": "python",
   "nbconvert_exporter": "python",
   "pygments_lexer": "ipython3",
   "version": "3.10.12"
  }
 },
 "nbformat": 4,
 "nbformat_minor": 2
}
